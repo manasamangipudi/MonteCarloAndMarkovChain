{
  "nbformat": 4,
  "nbformat_minor": 0,
  "metadata": {
    "colab": {
      "name": "Importance_sampling_2.ipynb",
      "provenance": [],
      "authorship_tag": "ABX9TyP0AuuMyOA8eGKM98KpbLVp",
      "include_colab_link": true
    },
    "kernelspec": {
      "name": "python3",
      "display_name": "Python 3"
    }
  },
  "cells": [
    {
      "cell_type": "markdown",
      "metadata": {
        "id": "view-in-github",
        "colab_type": "text"
      },
      "source": [
        "<a href=\"https://colab.research.google.com/github/sreeja-g/sampling_mc/blob/master/Importance_sampling_2.ipynb\" target=\"_parent\"><img src=\"https://colab.research.google.com/assets/colab-badge.svg\" alt=\"Open In Colab\"/></a>"
      ]
    },
    {
      "cell_type": "markdown",
      "metadata": {
        "id": "7SDKjcWVWdLO",
        "colab_type": "text"
      },
      "source": [
        "##Importance Sampling"
      ]
    },
    {
      "cell_type": "markdown",
      "metadata": {
        "id": "oCFZOyObdEa3",
        "colab_type": "text"
      },
      "source": [
        "####Using importance sampling here provides a **reduction in the variance** of an integral approximation."
      ]
    },
    {
      "cell_type": "code",
      "metadata": {
        "id": "bGKd2E9J1l00",
        "colab_type": "code",
        "colab": {}
      },
      "source": [
        "import numpy as np\n",
        "import scipy.stats as st\n",
        "import matplotlib.pyplot as plt\n",
        "import seaborn as sns"
      ],
      "execution_count": 0,
      "outputs": []
    },
    {
      "cell_type": "code",
      "metadata": {
        "id": "R5_ibOUCoQ5Q",
        "colab_type": "code",
        "colab": {}
      },
      "source": [
        "x = np.linspace(0, 10, 100000) "
      ],
      "execution_count": 0,
      "outputs": []
    },
    {
      "cell_type": "code",
      "metadata": {
        "id": "zOe_GkPLoBdg",
        "colab_type": "code",
        "colab": {}
      },
      "source": [
        "def f(x):\n",
        "    return np.exp(-2*np.abs(x-5))"
      ],
      "execution_count": 0,
      "outputs": []
    },
    {
      "cell_type": "code",
      "metadata": {
        "id": "W5eSXfntpABP",
        "colab_type": "code",
        "colab": {}
      },
      "source": [
        "def p(x):\n",
        "    return st.uniform(0,10).pdf(x)\n",
        "\n",
        "def q(x):\n",
        "    return st.norm(5,1).pdf(x)"
      ],
      "execution_count": 0,
      "outputs": []
    },
    {
      "cell_type": "code",
      "metadata": {
        "id": "LnXYHvkzR4eX",
        "colab_type": "code",
        "outputId": "f83c8140-4e25-4468-96d6-e226c3e922e3",
        "colab": {
          "base_uri": "https://localhost:8080/",
          "height": 287
        }
      },
      "source": [
        "plt.plot(x, f(x), label=\"$F(x)$\")\n",
        "\n",
        "plt.xlabel(\"x\", size=18)\n",
        "plt.ylabel(\"y\", size=18)\n",
        "plt.legend(loc='best')\n",
        "plt.show()"
      ],
      "execution_count": 97,
      "outputs": [
        {
          "output_type": "display_data",
          "data": {
            "image/png": "[encoded data removed]",
            "text/plain": [
              "<Figure size 432x288 with 1 Axes>"
            ]
          },
          "metadata": {
            "tags": [],
            "needs_background": "light"
          }
        }
      ]
    },
    {
      "cell_type": "code",
      "metadata": {
        "id": "qZnWfWpHJiFd",
        "colab_type": "code",
        "colab": {
          "base_uri": "https://localhost:8080/",
          "height": 287
        },
        "outputId": "3b08ff06-5e7c-4522-cf44-3aa07f742bdd"
      },
      "source": [
        "plt.plot(x, p(x), label=\"$P(x)$\")\n",
        "plt.plot(x, q(x), label=\"$Q(x)$\")\n",
        "\n",
        "plt.xlabel(\"x\", size=18)\n",
        "plt.ylabel(\"y\", size=18)\n",
        "plt.legend(loc='best')\n",
        "plt.show()"
      ],
      "execution_count": 98,
      "outputs": [
        {
          "output_type": "display_data",
          "data": {
            "image/png": "[encoded data removed]",
            "text/plain": [
              "<Figure size 432x288 with 1 Axes>"
            ]
          },
          "metadata": {
            "tags": [],
            "needs_background": "light"
          }
        }
      ]
    },
    {
      "cell_type": "code",
      "metadata": {
        "id": "qHyRkyiqs_bm",
        "colab_type": "code",
        "outputId": "d092907a-88b4-47a1-b87b-6e20fd19afe0",
        "colab": {
          "base_uri": "https://localhost:8080/",
          "height": 283
        }
      },
      "source": [
        "sns.distplot([np.random.uniform(0,10) for _ in range(100000)], label=\"$p(x)$\")\n",
        "sns.distplot([np.random.normal(5, 1) for _ in range(100000)], label=\"$q(x)$\")\n",
        "\n",
        "plt.legend()"
      ],
      "execution_count": 99,
      "outputs": [
        {
          "output_type": "execute_result",
          "data": {
            "text/plain": [
              "<matplotlib.legend.Legend at 0x7fa7b2118f28>"
            ]
          },
          "metadata": {
            "tags": []
          },
          "execution_count": 99
        },
        {
          "output_type": "display_data",
          "data": {
            "image/png": "[encoded data removed]",
            "text/plain": [
              "<Figure size 432x288 with 1 Axes>"
            ]
          },
          "metadata": {
            "tags": [],
            "needs_background": "light"
          }
        }
      ]
    },
    {
      "cell_type": "code",
      "metadata": {
        "id": "i9ZxZpcKAY2U",
        "colab_type": "code",
        "outputId": "27112c15-8d59-4483-bef8-3984af6b92f4",
        "colab": {
          "base_uri": "https://localhost:8080/",
          "height": 283
        }
      },
      "source": [
        "def sampling_p_x(iter=1000):\n",
        "    \n",
        "    samples_p_x = []\n",
        "\n",
        "    for i in range(iter):\n",
        "        z = np.random.uniform(0,10)\n",
        "        \n",
        "        samples_p_x.append(10*f(z))\n",
        "\n",
        "    sns.distplot(samples_p_x)\n",
        "    return np.array(samples_p_x)\n",
        "\n",
        "p_x_sampling = sampling_p_x(iter=100000)\n",
        "print(\"average {} variance {}\".format(np.mean(p_x_sampling), np.var(p_x_sampling)))"
      ],
      "execution_count": 100,
      "outputs": [
        {
          "output_type": "stream",
          "text": [
            "average 0.9904177128045021 variance 3.952061139642997\n"
          ],
          "name": "stdout"
        },
        {
          "output_type": "display_data",
          "data": {
            "image/png": "[encoded data removed]",
            "text/plain": [
              "<Figure size 432x288 with 1 Axes>"
            ]
          },
          "metadata": {
            "tags": [],
            "needs_background": "light"
          }
        }
      ]
    },
    {
      "cell_type": "code",
      "metadata": {
        "id": "Rw6U3ZHLEN6H",
        "colab_type": "code",
        "colab": {}
      },
      "source": [
        "def importance_sampling(iter=1000):\n",
        "    \n",
        "    samples = []\n",
        "\n",
        "    for i in range(iter):\n",
        "        z = np.random.normal(5, 1)\n",
        "        \n",
        "        samples.append(10*f(z)*(p(z)/q(z)))\n",
        "\n",
        "    return np.array(samples)"
      ],
      "execution_count": 0,
      "outputs": []
    },
    {
      "cell_type": "code",
      "metadata": {
        "id": "ymBW6ZWjshL_",
        "colab_type": "code",
        "colab": {}
      },
      "source": [
        "imp_sampling = importance_sampling(iter=100000)"
      ],
      "execution_count": 0,
      "outputs": []
    },
    {
      "cell_type": "code",
      "metadata": {
        "id": "Oe-vDFi2A78U",
        "colab_type": "code",
        "outputId": "47e6870b-9257-4df2-bc39-77f6ee8be9f4",
        "colab": {
          "base_uri": "https://localhost:8080/",
          "height": 283
        }
      },
      "source": [
        "sns.distplot(imp_sampling)"
      ],
      "execution_count": 103,
      "outputs": [
        {
          "output_type": "execute_result",
          "data": {
            "text/plain": [
              "<matplotlib.axes._subplots.AxesSubplot at 0x7fa7b1f6f0b8>"
            ]
          },
          "metadata": {
            "tags": []
          },
          "execution_count": 103
        },
        {
          "output_type": "display_data",
          "data": {
            "image/png": "[encoded data removed]",
            "text/plain": [
              "<Figure size 432x288 with 1 Axes>"
            ]
          },
          "metadata": {
            "tags": [],
            "needs_background": "light"
          }
        }
      ]
    },
    {
      "cell_type": "code",
      "metadata": {
        "id": "lVLByyLBV8ft",
        "colab_type": "code",
        "outputId": "8b449d49-168d-441c-8294-27784d50d612",
        "colab": {
          "base_uri": "https://localhost:8080/",
          "height": 35
        }
      },
      "source": [
        "print(\"average {} variance {}\".format(np.mean(imp_sampling), np.var(imp_sampling)))"
      ],
      "execution_count": 104,
      "outputs": [
        {
          "output_type": "stream",
          "text": [
            "average 1.000189143195374 variance 0.35575626260939636\n"
          ],
          "name": "stdout"
        }
      ]
    },
    {
      "cell_type": "code",
      "metadata": {
        "id": "d6a65ncnynjj",
        "colab_type": "code",
        "colab": {
          "base_uri": "https://localhost:8080/",
          "height": 35
        },
        "outputId": "4ad5ae17-aea6-46b1-83d7-00cc1fae16c1"
      },
      "source": [
        "np.trapz(f(x),x=x)"
      ],
      "execution_count": 105,
      "outputs": [
        {
          "output_type": "execute_result",
          "data": {
            "text/plain": [
              "0.9999545984033862"
            ]
          },
          "metadata": {
            "tags": []
          },
          "execution_count": 105
        }
      ]
    },
    {
      "cell_type": "code",
      "metadata": {
        "id": "CAOSLhtTeVFe",
        "colab_type": "code",
        "colab": {
          "base_uri": "https://localhost:8080/",
          "height": 35
        },
        "outputId": "7affc63b-ffdc-4a6d-b610-40bbfcae0a60"
      },
      "source": [
        "np.abs(np.trapz(f(x),x=x)-np.mean(p_x_sampling))"
      ],
      "execution_count": 107,
      "outputs": [
        {
          "output_type": "execute_result",
          "data": {
            "text/plain": [
              "0.009536885598884104"
            ]
          },
          "metadata": {
            "tags": []
          },
          "execution_count": 107
        }
      ]
    },
    {
      "cell_type": "code",
      "metadata": {
        "id": "SQBoFuxjJ3XY",
        "colab_type": "code",
        "colab": {
          "base_uri": "https://localhost:8080/",
          "height": 35
        },
        "outputId": "a16c8c57-7183-48df-c93f-7745744bf198"
      },
      "source": [
        "np.abs(np.trapz(f(x),x=x)-np.mean(imp_sampling))"
      ],
      "execution_count": 108,
      "outputs": [
        {
          "output_type": "execute_result",
          "data": {
            "text/plain": [
              "0.00023454479198781186"
            ]
          },
          "metadata": {
            "tags": []
          },
          "execution_count": 108
        }
      ]
    },
    {
      "cell_type": "code",
      "metadata": {
        "id": "gQqilr4VeTyH",
        "colab_type": "code",
        "colab": {}
      },
      "source": [
        ""
      ],
      "execution_count": 0,
      "outputs": []
    }
  ]
}