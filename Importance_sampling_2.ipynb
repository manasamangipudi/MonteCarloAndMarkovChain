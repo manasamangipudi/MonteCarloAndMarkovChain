{
  "nbformat": 4,
  "nbformat_minor": 0,
  "metadata": {
    "colab": {
      "name": "Importance_sampling_2.ipynb",
      "provenance": [],
      "authorship_tag": "ABX9TyNxOMQpTXly44cCOByAdok5",
      "include_colab_link": true
    },
    "kernelspec": {
      "name": "python3",
      "display_name": "Python 3"
    }
  },
  "cells": [
    {
      "cell_type": "markdown",
      "metadata": {
        "id": "view-in-github",
        "colab_type": "text"
      },
      "source": [
        "<a href=\"https://colab.research.google.com/github/sreeja-g/sampling_mc/blob/master/Importance_sampling_2.ipynb\" target=\"_parent\"><img src=\"https://colab.research.google.com/assets/colab-badge.svg\" alt=\"Open In Colab\"/></a>"
      ]
    },
    {
      "cell_type": "markdown",
      "metadata": {
        "id": "7SDKjcWVWdLO",
        "colab_type": "text"
      },
      "source": [
        "##Importance Sampling"
      ]
    },
    {
      "cell_type": "markdown",
      "metadata": {
        "id": "Q5JANHH5tp25",
        "colab_type": "text"
      },
      "source": [
        "\n",
        "For a function $f(x)$ in interval (0,b),\n",
        "\n",
        "$$E[f(x)] = \\int f(x)p(x) dx \\approx \\frac{1}{n}\\sum_{i} f(x_i)$$\n",
        "where $ x \\sim p(x)$\n",
        "\n",
        "also,\n",
        "\n",
        "$$\\int f(x) dx = b\\int f(x) \\frac{1}{b} dx = b\\int f(x)p(x) dx$$\n",
        "\n",
        "\n",
        "where $ x \\sim p(x)$ and \n",
        "$ p(x) = U(0,b)$\n",
        "\n",
        "hence,\n",
        "\n",
        "$$\\int f(x) dx = bE[f(x)] \\approx b\\frac{1}{n}\\sum_{i} f(x_i)$$\n",
        "\n"
      ]
    },
    {
      "cell_type": "markdown",
      "metadata": {
        "id": "JLfbcYs6zwKT",
        "colab_type": "text"
      },
      "source": [
        "**Importance Sampling**\n",
        "\n",
        "$$E[f(x)] = \\int f(x)p(x) dx = \\int f(x)\\frac{p(x)}{q(x)}q(x) dx \\approx \\frac{1}{n} \\sum_{i} f(x_i)\\frac{p(x_i)}{q(x_i)}$$\n",
        "\n",
        "where $ x \\sim q(x)$\n",
        "\n",
        "$$\\int f(x) dx = bE[f(x)] \\approx b\\frac{1}{n}\\sum_{i} f(x_i)\\frac{p(x_i)}{q(x_i)}$$\n",
        "\n",
        "where $ x \\sim q(x)$"
      ]
    },
    {
      "cell_type": "markdown",
      "metadata": {
        "id": "oCFZOyObdEa3",
        "colab_type": "text"
      },
      "source": [
        "####Using importance sampling here provides a **reduction in the variance** of an integral approximation."
      ]
    },
    {
      "cell_type": "code",
      "metadata": {
        "id": "bGKd2E9J1l00",
        "colab_type": "code",
        "colab": {
          "base_uri": "https://localhost:8080/",
          "height": 74
        },
        "outputId": "f5a1795d-b2d3-42e5-a416-86929f00f655"
      },
      "source": [
        "import numpy as np\n",
        "import scipy.stats as st\n",
        "import matplotlib.pyplot as plt\n",
        "import seaborn as sns"
      ],
      "execution_count": 1,
      "outputs": [
        {
          "output_type": "stream",
          "text": [
            "/usr/local/lib/python3.6/dist-packages/statsmodels/tools/_testing.py:19: FutureWarning: pandas.util.testing is deprecated. Use the functions in the public API at pandas.testing instead.\n",
            "  import pandas.util.testing as tm\n"
          ],
          "name": "stderr"
        }
      ]
    },
    {
      "cell_type": "code",
      "metadata": {
        "id": "R5_ibOUCoQ5Q",
        "colab_type": "code",
        "colab": {}
      },
      "source": [
        "x = np.linspace(0, 10, 100000) "
      ],
      "execution_count": 0,
      "outputs": []
    },
    {
      "cell_type": "code",
      "metadata": {
        "id": "zOe_GkPLoBdg",
        "colab_type": "code",
        "colab": {}
      },
      "source": [
        "def f(x):\n",
        "    return 10*np.exp(-2*np.abs(x-5))"
      ],
      "execution_count": 0,
      "outputs": []
    },
    {
      "cell_type": "code",
      "metadata": {
        "id": "W5eSXfntpABP",
        "colab_type": "code",
        "colab": {}
      },
      "source": [
        "def p(x):\n",
        "    return st.uniform(0,10).pdf(x)\n",
        "\n",
        "def q(x):\n",
        "    return st.norm(5,1).pdf(x)"
      ],
      "execution_count": 0,
      "outputs": []
    },
    {
      "cell_type": "code",
      "metadata": {
        "id": "LnXYHvkzR4eX",
        "colab_type": "code",
        "outputId": "1029fb59-2c53-40c0-d58f-53f641d2a873",
        "colab": {
          "base_uri": "https://localhost:8080/",
          "height": 287
        }
      },
      "source": [
        "plt.plot(x, f(x), label=\"$F(x)$\")\n",
        "\n",
        "plt.xlabel(\"x\", size=18)\n",
        "plt.ylabel(\"y\", size=18)\n",
        "plt.legend(loc='best')\n",
        "plt.show()"
      ],
      "execution_count": 5,
      "outputs": [
        {
          "output_type": "display_data",
          "data": {
            "image/png": "[encoded data removed]",
            "text/plain": [
              "<Figure size 432x288 with 1 Axes>"
            ]
          },
          "metadata": {
            "tags": [],
            "needs_background": "light"
          }
        }
      ]
    },
    {
      "cell_type": "code",
      "metadata": {
        "id": "qZnWfWpHJiFd",
        "colab_type": "code",
        "colab": {
          "base_uri": "https://localhost:8080/",
          "height": 287
        },
        "outputId": "ba0beb98-6f72-4215-b75d-080568644030"
      },
      "source": [
        "plt.plot(x, p(x), label=\"$P(x)$\")\n",
        "plt.plot(x, q(x), label=\"$Q(x)$\")\n",
        "\n",
        "plt.xlabel(\"x\", size=18)\n",
        "plt.ylabel(\"y\", size=18)\n",
        "plt.legend(loc='best')\n",
        "plt.show()"
      ],
      "execution_count": 6,
      "outputs": [
        {
          "output_type": "display_data",
          "data": {
            "image/png": "[encoded data removed]",
            "text/plain": [
              "<Figure size 432x288 with 1 Axes>"
            ]
          },
          "metadata": {
            "tags": [],
            "needs_background": "light"
          }
        }
      ]
    },
    {
      "cell_type": "code",
      "metadata": {
        "id": "qHyRkyiqs_bm",
        "colab_type": "code",
        "outputId": "31bdec97-b7e6-4560-d0f0-1c2c79505410",
        "colab": {
          "base_uri": "https://localhost:8080/",
          "height": 283
        }
      },
      "source": [
        "sns.distplot([np.random.uniform(0,10) for _ in range(100000)], label=\"$p(x)$\")\n",
        "sns.distplot([np.random.normal(5, 1) for _ in range(100000)], label=\"$q(x)$\")\n",
        "\n",
        "plt.legend()"
      ],
      "execution_count": 7,
      "outputs": [
        {
          "output_type": "execute_result",
          "data": {
            "text/plain": [
              "<matplotlib.legend.Legend at 0x7f5bf6f2c240>"
            ]
          },
          "metadata": {
            "tags": []
          },
          "execution_count": 7
        },
        {
          "output_type": "display_data",
          "data": {
            "image/png": "[encoded data removed]",
            "text/plain": [
              "<Figure size 432x288 with 1 Axes>"
            ]
          },
          "metadata": {
            "tags": [],
            "needs_background": "light"
          }
        }
      ]
    },
    {
      "cell_type": "code",
      "metadata": {
        "id": "i9ZxZpcKAY2U",
        "colab_type": "code",
        "outputId": "e919b611-6294-4230-e6b4-866662f8b782",
        "colab": {
          "base_uri": "https://localhost:8080/",
          "height": 35
        }
      },
      "source": [
        "def sampling_p_x(iter=1000):\n",
        "    \n",
        "    samples_p_x = []\n",
        "\n",
        "    for i in range(iter):\n",
        "        z = np.random.uniform(0,10)\n",
        "        \n",
        "        samples_p_x.append(f(z))\n",
        "\n",
        "    return np.array(samples_p_x)\n",
        "\n",
        "p_x_sampling = sampling_p_x(iter=100000)\n",
        "print(\"average {} variance {}\".format(np.mean(p_x_sampling), np.var(p_x_sampling)))"
      ],
      "execution_count": 8,
      "outputs": [
        {
          "output_type": "stream",
          "text": [
            "average 0.9974763912787615 variance 4.000965789468639\n"
          ],
          "name": "stdout"
        }
      ]
    },
    {
      "cell_type": "code",
      "metadata": {
        "id": "Re0kd_XntNZR",
        "colab_type": "code",
        "colab": {
          "base_uri": "https://localhost:8080/",
          "height": 35
        },
        "outputId": "0139b4ad-8e1f-4678-f645-ea44df10a7d2"
      },
      "source": [
        "print(\"Approximated Integral value from p(x) : {}\".format(10*np.mean(p_x_sampling)))"
      ],
      "execution_count": 9,
      "outputs": [
        {
          "output_type": "stream",
          "text": [
            "Approximated Integral value from p(x) : 9.974763912787616\n"
          ],
          "name": "stdout"
        }
      ]
    },
    {
      "cell_type": "code",
      "metadata": {
        "id": "z4Qi7JYYtFex",
        "colab_type": "code",
        "colab": {
          "base_uri": "https://localhost:8080/",
          "height": 283
        },
        "outputId": "bf09c7c9-c5fd-47b6-9d61-717ee38c50c3"
      },
      "source": [
        "sns.distplot(p_x_sampling)"
      ],
      "execution_count": 10,
      "outputs": [
        {
          "output_type": "execute_result",
          "data": {
            "text/plain": [
              "<matplotlib.axes._subplots.AxesSubplot at 0x7f5bf6eae748>"
            ]
          },
          "metadata": {
            "tags": []
          },
          "execution_count": 10
        },
        {
          "output_type": "display_data",
          "data": {
            "image/png": "[encoded data removed]",
            "text/plain": [
              "<Figure size 432x288 with 1 Axes>"
            ]
          },
          "metadata": {
            "tags": [],
            "needs_background": "light"
          }
        }
      ]
    },
    {
      "cell_type": "code",
      "metadata": {
        "id": "Rw6U3ZHLEN6H",
        "colab_type": "code",
        "colab": {}
      },
      "source": [
        "def importance_sampling(iter=1000):\n",
        "    \n",
        "    samples = []\n",
        "\n",
        "    for i in range(iter):\n",
        "        z = np.random.normal(5, 1)\n",
        "        \n",
        "        samples.append(f(z)*(p(z)/q(z)))\n",
        "\n",
        "    return np.array(samples)"
      ],
      "execution_count": 0,
      "outputs": []
    },
    {
      "cell_type": "code",
      "metadata": {
        "id": "ymBW6ZWjshL_",
        "colab_type": "code",
        "colab": {}
      },
      "source": [
        "imp_sampling = importance_sampling(iter=100000)"
      ],
      "execution_count": 0,
      "outputs": []
    },
    {
      "cell_type": "code",
      "metadata": {
        "id": "lVLByyLBV8ft",
        "colab_type": "code",
        "outputId": "c10319c6-05f9-40ae-d066-cae4873954c9",
        "colab": {
          "base_uri": "https://localhost:8080/",
          "height": 35
        }
      },
      "source": [
        "print(\"average {} variance {}\".format(np.mean(imp_sampling), np.var(imp_sampling)))"
      ],
      "execution_count": 13,
      "outputs": [
        {
          "output_type": "stream",
          "text": [
            "average 1.0004736471346702 variance 0.36067750175201263\n"
          ],
          "name": "stdout"
        }
      ]
    },
    {
      "cell_type": "code",
      "metadata": {
        "id": "sjlPL_vctedI",
        "colab_type": "code",
        "colab": {
          "base_uri": "https://localhost:8080/",
          "height": 35
        },
        "outputId": "ef4fd75a-63ba-436a-98f0-6df43220197a"
      },
      "source": [
        "print(\"Approximated Integral value from importance sampling: {}\".format(10*np.mean(imp_sampling)))"
      ],
      "execution_count": 14,
      "outputs": [
        {
          "output_type": "stream",
          "text": [
            "Approximated Integral value from importance sampling: 10.004736471346703\n"
          ],
          "name": "stdout"
        }
      ]
    },
    {
      "cell_type": "code",
      "metadata": {
        "id": "Oe-vDFi2A78U",
        "colab_type": "code",
        "outputId": "319f0fa4-e975-4d88-a244-d953a3cc0cfa",
        "colab": {
          "base_uri": "https://localhost:8080/",
          "height": 283
        }
      },
      "source": [
        "sns.distplot(imp_sampling)"
      ],
      "execution_count": 15,
      "outputs": [
        {
          "output_type": "execute_result",
          "data": {
            "text/plain": [
              "<matplotlib.axes._subplots.AxesSubplot at 0x7f5bf6d1f978>"
            ]
          },
          "metadata": {
            "tags": []
          },
          "execution_count": 15
        },
        {
          "output_type": "display_data",
          "data": {
            "image/png": "[encoded data removed]",
            "text/plain": [
              "<Figure size 432x288 with 1 Axes>"
            ]
          },
          "metadata": {
            "tags": [],
            "needs_background": "light"
          }
        }
      ]
    },
    {
      "cell_type": "code",
      "metadata": {
        "id": "d6a65ncnynjj",
        "colab_type": "code",
        "colab": {
          "base_uri": "https://localhost:8080/",
          "height": 35
        },
        "outputId": "c71c7998-cdb3-47f1-ed61-2295f3f853a2"
      },
      "source": [
        "np.trapz(f(x),x=x)"
      ],
      "execution_count": 16,
      "outputs": [
        {
          "output_type": "execute_result",
          "data": {
            "text/plain": [
              "9.999545984033862"
            ]
          },
          "metadata": {
            "tags": []
          },
          "execution_count": 16
        }
      ]
    },
    {
      "cell_type": "code",
      "metadata": {
        "id": "CAOSLhtTeVFe",
        "colab_type": "code",
        "colab": {
          "base_uri": "https://localhost:8080/",
          "height": 35
        },
        "outputId": "38b0ab35-506e-480b-e96b-53c6e1dc369c"
      },
      "source": [
        "np.abs(np.trapz(f(x),x=x)-10*np.mean(p_x_sampling))"
      ],
      "execution_count": 17,
      "outputs": [
        {
          "output_type": "execute_result",
          "data": {
            "text/plain": [
              "0.024782071246246318"
            ]
          },
          "metadata": {
            "tags": []
          },
          "execution_count": 17
        }
      ]
    },
    {
      "cell_type": "code",
      "metadata": {
        "id": "SQBoFuxjJ3XY",
        "colab_type": "code",
        "colab": {
          "base_uri": "https://localhost:8080/",
          "height": 35
        },
        "outputId": "305c6a35-5f97-496a-928c-7865d178ee3d"
      },
      "source": [
        "np.abs(np.trapz(f(x),x=x)-10*np.mean(imp_sampling))"
      ],
      "execution_count": 18,
      "outputs": [
        {
          "output_type": "execute_result",
          "data": {
            "text/plain": [
              "0.005190487312841441"
            ]
          },
          "metadata": {
            "tags": []
          },
          "execution_count": 18
        }
      ]
    },
    {
      "cell_type": "markdown",
      "metadata": {
        "id": "mMfd9Ugc5Jgq",
        "colab_type": "text"
      },
      "source": [
        "###Though the integral calculation is still correct, but with a variance this is approximately 1/10 of the simple monte carlo integral approximation\n"
      ]
    }
  ]
}