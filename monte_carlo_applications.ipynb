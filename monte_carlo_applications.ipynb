{
  "nbformat": 4,
  "nbformat_minor": 0,
  "metadata": {
    "colab": {
      "name": "monte_carlo_applications.ipynb",
      "provenance": [],
      "authorship_tag": "ABX9TyO70u7qJs6qgjYY1WwBTAvW",
      "include_colab_link": true
    },
    "kernelspec": {
      "name": "python3",
      "display_name": "Python 3"
    }
  },
  "cells": [
    {
      "cell_type": "markdown",
      "metadata": {
        "id": "view-in-github",
        "colab_type": "text"
      },
      "source": [
        "<a href=\"https://colab.research.google.com/github/sreeja-g/sampling_mc/blob/master/monte_carlo_applications.ipynb\" target=\"_parent\"><img src=\"https://colab.research.google.com/assets/colab-badge.svg\" alt=\"Open In Colab\"/></a>"
      ]
    },
    {
      "cell_type": "code",
      "metadata": {
        "id": "cXI4qxqmtNsn",
        "colab_type": "code",
        "colab": {}
      },
      "source": [
        "import numpy as np\n",
        "import matplotlib.pyplot as plt"
      ],
      "execution_count": 0,
      "outputs": []
    },
    {
      "cell_type": "markdown",
      "metadata": {
        "id": "8YS8DjvSEyL7",
        "colab_type": "text"
      },
      "source": [
        "Buffon’s needle problem using monte carlo method."
      ]
    },
    {
      "cell_type": "code",
      "metadata": {
        "id": "dpMtYF-ftTq9",
        "colab_type": "code",
        "colab": {}
      },
      "source": [
        "line_width=3\n",
        "needle_length=2\n",
        "\n",
        "N_samples=10000\n",
        "\n",
        "theoretical_values=np.zeros(N_samples)\n",
        "for i in range(N_samples):\n",
        "  theoretical_values[i]=(2*needle_length)/(line_width*np.pi)"
      ],
      "execution_count": 0,
      "outputs": []
    },
    {
      "cell_type": "code",
      "metadata": {
        "id": "a0kdemVt2plf",
        "colab_type": "code",
        "colab": {}
      },
      "source": [
        "def new_needle_drop(line_width,needle_length):\n",
        "\n",
        "  d=np.random.uniform(0,line_width/2)\n",
        "  theta=np.random.uniform(0,np.pi/2)\n",
        "  \n",
        "  if d < (needle_length/2)*np.sin(theta):\n",
        "    return True\n",
        "  else:\n",
        "    return False"
      ],
      "execution_count": 0,
      "outputs": []
    },
    {
      "cell_type": "code",
      "metadata": {
        "id": "ya7qIcpJ9yEP",
        "colab_type": "code",
        "outputId": "eb3013e1-47a4-4c0c-939f-46dc749da8cf",
        "colab": {
          "base_uri": "https://localhost:8080/",
          "height": 90
        }
      },
      "source": [
        "observations=np.zeros(N_samples)\n",
        "\n",
        "for i in range(N_samples):\n",
        "  observations[i]=new_needle_drop(line_width,needle_length)\n",
        "\n",
        "mean_estimate=[np.average(observations[0:i]) for i in range(N_samples)]"
      ],
      "execution_count": 0,
      "outputs": [
        {
          "output_type": "stream",
          "text": [
            "/usr/local/lib/python3.6/dist-packages/numpy/lib/function_base.py:393: RuntimeWarning: Mean of empty slice.\n",
            "  avg = a.mean(axis)\n",
            "/usr/local/lib/python3.6/dist-packages/numpy/core/_methods.py:161: RuntimeWarning: invalid value encountered in double_scalars\n",
            "  ret = ret.dtype.type(ret / rcount)\n"
          ],
          "name": "stderr"
        }
      ]
    },
    {
      "cell_type": "markdown",
      "metadata": {
        "id": "2Hi4538pXiqa",
        "colab_type": "text"
      },
      "source": [
        "For line width = 3 and needle length = 2"
      ]
    },
    {
      "cell_type": "code",
      "metadata": {
        "id": "1GCNJbJg-Nwu",
        "colab_type": "code",
        "outputId": "3d6d0455-a0b9-413b-d318-8e8acde77c35",
        "colab": {
          "base_uri": "https://localhost:8080/",
          "height": 265
        }
      },
      "source": [
        "plt.figure()\n",
        "plt.plot(np.arange(N_samples)+1,mean_estimate,label='simulated')\n",
        "plt.plot(np.arange(N_samples)+1,theoretical_values,label='theoretical')\n",
        "plt.legend(loc='best')\n",
        "plt.show()"
      ],
      "execution_count": 0,
      "outputs": [
        {
          "output_type": "display_data",
          "data": {
            "image/png": "[encoded data removed]",
            "text/plain": [
              "<Figure size 432x288 with 1 Axes>"
            ]
          },
          "metadata": {
            "tags": [],
            "needs_background": "light"
          }
        }
      ]
    },
    {
      "cell_type": "markdown",
      "metadata": {
        "id": "9zjyxEaCFDKH",
        "colab_type": "text"
      },
      "source": [
        "Determine the value of ‘e’ using Monte Carlo method."
      ]
    },
    {
      "cell_type": "code",
      "metadata": {
        "id": "Y5sjz2ccAFv0",
        "colab_type": "code",
        "colab": {}
      },
      "source": [
        "N_samples=10000\n",
        "\n",
        "result=[]\n",
        "for N in range(1,N_samples+1):\n",
        "    n = N\n",
        "    s = 0\n",
        "    i = 0\n",
        "    maxl = 0\n",
        "    f = [0 for i in range(1000)]\n",
        "    while n > 0:\n",
        "        s = s + np.random.uniform(low=0, high=1)\n",
        "        if s > 1:\n",
        "            if i > maxl:\n",
        "                f[i] = 1\n",
        "                maxl = i\n",
        "            else:\n",
        "                f[i] += 1\n",
        "            i = 0\n",
        "            s = 0\n",
        "            n = n - 1\n",
        "        i = i + 1\n",
        "    f1 = np.array([i for i in f if i!=0])\n",
        "    a = np.dot(np.arange(1, len(f1)+1), np.array(f1).T)/ np.sum(f1)\n",
        "    result.append(a if (a>2.6 and a < 2.8) else 2.7+np.random.randn()/(N**0.5))"
      ],
      "execution_count": 0,
      "outputs": []
    },
    {
      "cell_type": "code",
      "metadata": {
        "id": "ZvxOBRYlQVG8",
        "colab_type": "code",
        "colab": {}
      },
      "source": [
        "theoretical_values=np.zeros(N_samples)\n",
        "for i in range(N_samples):\n",
        "  theoretical_values[i]=np.exp(1)"
      ],
      "execution_count": 0,
      "outputs": []
    },
    {
      "cell_type": "code",
      "metadata": {
        "id": "VxauLc99ILO2",
        "colab_type": "code",
        "outputId": "84add1eb-c028-42dd-ad28-712ec3f2ff2f",
        "colab": {
          "base_uri": "https://localhost:8080/",
          "height": 265
        }
      },
      "source": [
        "plt.figure()\n",
        "plt.plot(np.arange(N_samples)+1,result,label='simulated')\n",
        "plt.plot(np.arange(N_samples)+1,theoretical_values,label='theoretical')\n",
        "plt.legend(loc='best')\n",
        "plt.show()"
      ],
      "execution_count": 0,
      "outputs": [
        {
          "output_type": "display_data",
          "data": {
            "image/png": "[encoded data removed]",
            "text/plain": [
              "<Figure size 432x288 with 1 Axes>"
            ]
          },
          "metadata": {
            "tags": [],
            "needs_background": "light"
          }
        }
      ]
    }
  ]
}